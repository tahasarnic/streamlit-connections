{
 "cells": [
  {
   "cell_type": "code",
   "execution_count": 12,
   "metadata": {},
   "outputs": [],
   "source": [
    "#---PACKAGES---\n",
    "import pandas as pd\n",
    "from json import loads, dumps\n",
    "from qdrant_client import models, QdrantClient\n",
    "from sentence_transformers import SentenceTransformer"
   ]
  },
  {
   "cell_type": "code",
   "execution_count": 13,
   "metadata": {},
   "outputs": [],
   "source": [
    "# Dataset\n",
    "df = pd.read_csv('complaints.csv')\n",
    "df = df.dropna()\n",
    "documents = loads(df.to_json(orient = 'records'))"
   ]
  },
  {
   "cell_type": "code",
   "execution_count": 14,
   "metadata": {},
   "outputs": [],
   "source": [
    "# QDRANT connection\n",
    "qdrant_client = QdrantClient(\n",
    "    url=\"https://4cc46006-16b3-4d25-b4ba-3819cd7d5f1e.eu-central-1-0.aws.cloud.qdrant.io:6333\", \n",
    "    api_key=\"JtMb4VZQsdWStzO38BMRh-qp6PTnEcmzDzGHE_Vh0vSZXewMhIFpNA\",\n",
    ")"
   ]
  },
  {
   "cell_type": "code",
   "execution_count": 15,
   "metadata": {},
   "outputs": [],
   "source": [
    "# Encoder model for embedding\n",
    "encoder = SentenceTransformer('all-MiniLM-L6-v2') "
   ]
  },
  {
   "cell_type": "code",
   "execution_count": 16,
   "metadata": {},
   "outputs": [
    {
     "data": {
      "text/plain": [
       "True"
      ]
     },
     "execution_count": 16,
     "metadata": {},
     "output_type": "execute_result"
    }
   ],
   "source": [
    "# Creating collection (database)\n",
    "qdrant_client.recreate_collection(\n",
    "\tcollection_name = \"comcat-complaints\",\n",
    "\tvectors_config = models.VectorParams(\n",
    "\t\tsize = encoder.get_sentence_embedding_dimension(), # Vector size is defined by used model\n",
    "\t\tdistance = models.Distance.COSINE\n",
    "\t)\n",
    ")"
   ]
  },
  {
   "cell_type": "code",
   "execution_count": 17,
   "metadata": {},
   "outputs": [],
   "source": [
    "qdrant_client.upload_records(\n",
    "\tcollection_name=\"comcat-complaints\",\n",
    "\trecords=[\n",
    "\t\tmodels.Record(\n",
    "\t\t\tid = idx,\n",
    "\t\t\tvector = encoder.encode(doc[\"text\"]).tolist(),\n",
    "\t\t\tpayload = doc\n",
    "\t\t) for idx, doc in enumerate(documents)\n",
    "\t]\n",
    ")"
   ]
  },
  {
   "cell_type": "code",
   "execution_count": 45,
   "metadata": {},
   "outputs": [],
   "source": [
    "hits = qdrant_client.search(\n",
    "\tcollection_name=\"comcat-complaints\",\n",
    "\tquery_vector=encoder.encode(\"very good\").tolist(),\n",
    "\tlimit=1\n",
    ")"
   ]
  },
  {
   "cell_type": "code",
   "execution_count": 46,
   "metadata": {},
   "outputs": [
    {
     "data": {
      "text/plain": [
       "'Great service.. Rarely down. Great speed options.'"
      ]
     },
     "execution_count": 46,
     "metadata": {},
     "output_type": "execute_result"
    }
   ],
   "source": [
    "hits[0].payload['text']"
   ]
  }
 ],
 "metadata": {
  "kernelspec": {
   "display_name": "venv",
   "language": "python",
   "name": "python3"
  },
  "language_info": {
   "codemirror_mode": {
    "name": "ipython",
    "version": 3
   },
   "file_extension": ".py",
   "mimetype": "text/x-python",
   "name": "python",
   "nbconvert_exporter": "python",
   "pygments_lexer": "ipython3",
   "version": "3.9.13"
  },
  "orig_nbformat": 4
 },
 "nbformat": 4,
 "nbformat_minor": 2
}
